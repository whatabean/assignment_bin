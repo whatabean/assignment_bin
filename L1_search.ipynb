{
 "cells": [
  {
   "cell_type": "code",
   "execution_count": null,
   "id": "347a38ff",
   "metadata": {},
   "outputs": [
    {
     "data": {
      "text/plain": [
       "(               chrom  start   end    repeat_name repeat_class_family  score  \\\n",
       " 0  contig_1000|arrow      1   331     RLTR13D3A1            LTR/ERVK   1822   \n",
       " 1  contig_1000|arrow    400  1287  ERVB2_1A-I_MM            LTR/ERVK   1065   \n",
       " 2  contig_1000|arrow   1411  1504       (GTTTT)n       Simple_repeat     43   \n",
       " 3  contig_1000|arrow   1505  1652        B1_Mus1            SINE/Alu    902   \n",
       " 4  contig_1000|arrow   1539  1669     ORR1B1-int       LTR/ERVL-MaLR    602   \n",
       " \n",
       "    divergence  deletions  insertions query_left strand repeat_start  \\\n",
       " 0        11.7        2.1         4.3    (19162)      C        (594)   \n",
       " 1        30.6        4.6         2.9    (18206)      C        (126)   \n",
       " 2        15.9        3.2         1.0    (17989)      +            1   \n",
       " 3        13.0        0.0         1.4    (17841)      C          (2)   \n",
       " 4        20.2        0.0         1.6    (17824)      C        (750)   \n",
       " \n",
       "    repeat_end repeat_left  ID  SW_score  \n",
       " 0         357          34   1        16  \n",
       " 1        7127        6021   2        16  \n",
       " 2          96         (0)   3        16  \n",
       " 3         146           1   4        16  \n",
       " 4         759         631   5        16  ,\n",
       " (4682933, 16))"
      ]
     },
     "execution_count": 35,
     "metadata": {},
     "output_type": "execute_result"
    }
   ],
   "source": [
    "import pandas as pd\n",
    "import numpy as np\n",
    "\n",
    "# Load the BED file (local)\n",
    "bed_file_path = \"./129S1_flye_gcpp.RM.bed\"\n",
    "bed_df = pd.read_csv(bed_file_path, sep=\"\\t\", header=None, comment='#')\n",
    "\n",
    "columns = [\n",
    "    \"chrom\", \"start\", \"end\", \"repeat_name\", \"repeat_class_family\", \"score\",\n",
    "    \"divergence\", \"deletions\", \"insertions\", \"query_left\", \"strand\",\n",
    "    \"repeat_start\", \"repeat_end\", \"repeat_left\", \"ID\", \"SW_score\"\n",
    "]\n",
    "\n",
    "bed_df.columns = columns\n",
    "\n",
    "# Display the first few rows and the number of columns to inspect structure\n",
    "bed_df.head(), bed_df.shape"
   ]
  },
  {
   "cell_type": "code",
   "execution_count": 51,
   "id": "54aca31d",
   "metadata": {},
   "outputs": [
    {
     "name": "stdout",
     "output_type": "stream",
     "text": [
      "                chrom  start   end repeat_name repeat_class_family  score  \\\n",
      "5   contig_1000|arrow   1918  2483     L1_Mur1             LINE/L1   3769   \n",
      "7   contig_1000|arrow   2562  2989     L1_Mur1             LINE/L1   2760   \n",
      "8   contig_1000|arrow   2987  3313     Lx3_Mus             LINE/L1   1955   \n",
      "10  contig_1000|arrow   3524  3856     Lx3_Mus             LINE/L1   6353   \n",
      "12  contig_1000|arrow   3889  4618     Lx3_Mus             LINE/L1   6353   \n",
      "\n",
      "    divergence  deletions  insertions query_left strand repeat_start  \\\n",
      "5          8.6        0.2         1.2    (17010)      C       (1629)   \n",
      "7          9.6        1.6         0.0    (16504)      C       (2165)   \n",
      "8         11.5        2.7         0.0    (16180)      +         5221   \n",
      "10        11.5        0.7         2.1    (15637)      +         5587   \n",
      "12        11.5        0.7         2.1    (14875)      +         5921   \n",
      "\n",
      "    repeat_end repeat_left  ID  SW_score  \n",
      "5         5197        4638   6        16  \n",
      "7         4661        4227   6        16  \n",
      "8         5556      (1270)   8        16  \n",
      "10        5920      (1089)   8        16  \n",
      "12        6634       (375)   8        16  \n"
     ]
    }
   ],
   "source": [
    "# Filter for LINE/L1 elements\n",
    "l1_elements = bed_df[bed_df[\"repeat_class_family\"].str.contains(\"LINE/L1\")]\n",
    "\n",
    "print(l1_elements.head())"
   ]
  },
  {
   "cell_type": "code",
   "execution_count": 37,
   "id": "534b29dd",
   "metadata": {},
   "outputs": [
    {
     "data": {
      "text/plain": [
       "array(['HAL1', 'HAL1M8', 'HAL1ME', 'HAL1b', 'L1Lx_I', 'L1Lx_II',\n",
       "       'L1Lx_III', 'L1Lx_IV', 'L1M', 'L1M1', 'L1M2', 'L1M2a', 'L1M2c',\n",
       "       'L1M3', 'L1M3a', 'L1M3b', 'L1M3c', 'L1M3d', 'L1M3de', 'L1M3e',\n",
       "       'L1M3f', 'L1M4', 'L1M4a1', 'L1M4a2', 'L1M4b', 'L1M4c', 'L1M5',\n",
       "       'L1M6', 'L1M6B', 'L1M7', 'L1M8', 'L1MA10', 'L1MA4', 'L1MA4A',\n",
       "       'L1MA5', 'L1MA5A', 'L1MA6', 'L1MA7', 'L1MA8', 'L1MA9', 'L1MB1',\n",
       "       'L1MB2', 'L1MB3', 'L1MB4', 'L1MB5', 'L1MB7', 'L1MB8', 'L1MC',\n",
       "       'L1MC1', 'L1MC2', 'L1MC3', 'L1MC4', 'L1MC4a', 'L1MC5', 'L1MC5a',\n",
       "       'L1MCa', 'L1MCb', 'L1MCc', 'L1MD', 'L1MD1', 'L1MD2', 'L1MD3',\n",
       "       'L1MDa', 'L1MDb', 'L1ME1', 'L1ME2', 'L1ME2z', 'L1ME3', 'L1ME3A',\n",
       "       'L1ME3B', 'L1ME3C', 'L1ME3Cz', 'L1ME3D', 'L1ME3E', 'L1ME3F',\n",
       "       'L1ME3G', 'L1ME4a', 'L1ME4b', 'L1ME4c', 'L1ME5', 'L1MEa', 'L1MEb',\n",
       "       'L1MEc', 'L1MEd', 'L1MEf', 'L1MEg', 'L1MEg1', 'L1MEg2', 'L1MEh',\n",
       "       'L1MEi', 'L1MEj', 'L1MdA_I', 'L1MdA_II', 'L1MdA_III', 'L1MdA_IV',\n",
       "       'L1MdA_V', 'L1MdA_VI', 'L1MdA_VII', 'L1MdF_I', 'L1MdF_II',\n",
       "       'L1MdF_III', 'L1MdF_IV', 'L1MdF_V', 'L1MdFanc_I', 'L1MdFanc_II',\n",
       "       'L1MdGf_I', 'L1MdGf_II', 'L1MdMus_I', 'L1MdMus_II', 'L1MdN_I',\n",
       "       'L1MdTf_I', 'L1MdTf_II', 'L1MdTf_III', 'L1MdV_I', 'L1MdV_II',\n",
       "       'L1MdV_III', 'L1P5', 'L1PB4', 'L1VL1', 'L1_Mur1', 'L1_Mur2',\n",
       "       'L1_Mur3', 'L1_Mus3', 'L1_Rod', 'Lx', 'Lx10', 'Lx2', 'Lx2A',\n",
       "       'Lx2A1', 'Lx2B', 'Lx2B2', 'Lx3A', 'Lx3B', 'Lx3C', 'Lx3_Mus',\n",
       "       'Lx4A', 'Lx4B', 'Lx5', 'Lx5b', 'Lx5c', 'Lx6', 'Lx7', 'Lx8', 'Lx8b',\n",
       "       'Lx9', 'MARE6', 'MusHAL1', 'X9_LINE'], dtype=object)"
      ]
     },
     "execution_count": 37,
     "metadata": {},
     "output_type": "execute_result"
    }
   ],
   "source": [
    "\n",
    "# Check distinct repeat names to identify 'young' L1s\n",
    "unique_l1_names = l1_elements[\"repeat_name\"].unique()\n",
    "unique_l1_names.sort()  # sort for readability\n",
    "unique_l1_names"
   ]
  },
  {
   "cell_type": "code",
   "execution_count": 59,
   "id": "959a770a",
   "metadata": {},
   "outputs": [
    {
     "name": "stdout",
     "output_type": "stream",
     "text": [
      "                   chrom    start      end repeat_name repeat_class_family  \\\n",
      "4624   contig_1002|arrow   930099   936637    L1MdGf_I             LINE/L1   \n",
      "5332   contig_1002|arrow  1369379  1376303    L1MdGf_I             LINE/L1   \n",
      "10800  contig_1002|arrow  5188681  5195783    L1MdGf_I             LINE/L1   \n",
      "10862  contig_1009|arrow     4798    11321    L1MdGf_I             LINE/L1   \n",
      "11041  contig_1009|arrow   173923   180401    L1MdGf_I             LINE/L1   \n",
      "\n",
      "       score  divergence  deletions  insertions query_left strand  \\\n",
      "4624   42036         1.1        0.4         0.9  (4271769)      C   \n",
      "5332   39635         0.6        0.1         0.1  (3832103)      +   \n",
      "10800  41283         0.7        0.1         0.1    (12623)      +   \n",
      "10862  39282         1.8        0.0         0.0  (1338090)      C   \n",
      "11041  41190         2.3        0.2         0.1  (1169010)      C   \n",
      "\n",
      "      repeat_start  repeat_end repeat_left    ID  SW_score  \n",
      "4624           (0)        6579          92  4014        16  \n",
      "5332            16        6579         (0)  4630        16  \n",
      "10800           16        6579         (0)  9526        16  \n",
      "10862          (0)        6579          92  9573        16  \n",
      "11041          (0)        7242         755  9720        16  \n"
     ]
    },
    {
     "name": "stderr",
     "output_type": "stream",
     "text": [
      "/var/folders/h1/19s6l9_x5jxbd53pvfndp83h0000gn/T/ipykernel_3788/1667898888.py:5: UserWarning: Boolean Series key will be reindexed to match DataFrame index.\n",
      "  young_l1 = young_l1[np.abs(l1_elements[\"start\"]-l1_elements[\"end\"])>5800]\n"
     ]
    }
   ],
   "source": [
    "# Filter: young L1s (e.g., L1Md_T, L1Md_A, etc.)\n",
    "#young_l1_families = []\n",
    "#pattern = \"|\".join(young_l1_families)\n",
    "young_l1 = l1_elements[l1_elements[\"repeat_name\"].str.contains(r'\\bL1MdGf_I\\b', regex=True)]\n",
    "young_l1 = young_l1[np.abs(l1_elements[\"start\"]-l1_elements[\"end\"])>5800]\n",
    "\n",
    "\n",
    "# Display a preview\n",
    "print(young_l1.head())"
   ]
  },
  {
   "cell_type": "code",
   "execution_count": null,
   "id": "ec804800",
   "metadata": {},
   "outputs": [
    {
     "name": "stderr",
     "output_type": "stream",
     "text": [
      "/var/folders/h1/19s6l9_x5jxbd53pvfndp83h0000gn/T/ipykernel_3788/3891026408.py:5: SettingWithCopyWarning: \n",
      "A value is trying to be set on a copy of a slice from a DataFrame.\n",
      "Try using .loc[row_indexer,col_indexer] = value instead\n",
      "\n",
      "See the caveats in the documentation: https://pandas.pydata.org/pandas-docs/stable/user_guide/indexing.html#returning-a-view-versus-a-copy\n",
      "  bedgraph_L1['chrom'] = \"chrX\"\n",
      "/var/folders/h1/19s6l9_x5jxbd53pvfndp83h0000gn/T/ipykernel_3788/3891026408.py:6: SettingWithCopyWarning: \n",
      "A value is trying to be set on a copy of a slice from a DataFrame.\n",
      "Try using .loc[row_indexer,col_indexer] = value instead\n",
      "\n",
      "See the caveats in the documentation: https://pandas.pydata.org/pandas-docs/stable/user_guide/indexing.html#returning-a-view-versus-a-copy\n",
      "  bedgraph_L1['count'] = np.abs(l1_elements[\"start\"]-l1_elements[\"end\"])\n"
     ]
    }
   ],
   "source": [
    "# Output to bedfile\n",
    "young_l1.to_csv('young_l1.bed', sep='\\t', header=False, index=False)\n",
    "\n",
    "bedgraph_L1 = young_l1[['chrom', 'start', 'end',]]\n",
    "bedgraph_L1['chrom'] = \"chrX\"\n",
    "bedgraph_L1['count'] = np.abs(l1_elements[\"start\"]-l1_elements[\"end\"])\n",
    "\n",
    "bedgraph_L1.to_csv('young_l1.bedgraph', sep='\\t', header=False, index=False)"
   ]
  },
  {
   "cell_type": "code",
   "execution_count": null,
   "id": "f3075071",
   "metadata": {},
   "outputs": [],
   "source": []
  }
 ],
 "metadata": {
  "kernelspec": {
   "display_name": "bioenv",
   "language": "python",
   "name": "python3"
  },
  "language_info": {
   "codemirror_mode": {
    "name": "ipython",
    "version": 3
   },
   "file_extension": ".py",
   "mimetype": "text/x-python",
   "name": "python",
   "nbconvert_exporter": "python",
   "pygments_lexer": "ipython3",
   "version": "3.13.3"
  }
 },
 "nbformat": 4,
 "nbformat_minor": 5
}
